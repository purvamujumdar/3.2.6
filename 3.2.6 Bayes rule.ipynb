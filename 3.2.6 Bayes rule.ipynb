{
 "cells": [
  {
   "cell_type": "markdown",
   "metadata": {},
   "source": [
    "## 3.2.6"
   ]
  },
  {
   "cell_type": "markdown",
   "metadata": {},
   "source": [
    "## __Drill - Exercise in Bayes's Rule__"
   ]
  },
  {
   "cell_type": "markdown",
   "metadata": {},
   "source": [
    "Based on information provided in the question, following probabilities are calculated:\n",
    "\n",
    "1. Be positive:\n",
    "Prob(test will be positive) = (0.005 x 0.98) + (0.995 x 0.10) = 0.1044\n",
    "\n",
    "2. Correctly diagnose a sufferer of Thripshaw's\n",
    "Prob(correctly diagnosis of sufferer) = (0.005 x 0.98) = 0.0049\n",
    "\n",
    "3. Correctly identify a non-sufferer of Thripshaw's\n",
    "Prob(correctly identify non-sufferer) = (0.995 x 0.9) = 0.8955\n",
    "\n",
    "4. Misclassify the person\n",
    "Prob(Misclassify person) = (0.02 x 0.005) + (0.995 x 0.1) = 0.0996"
   ]
  },
  {
   "cell_type": "code",
   "execution_count": null,
   "metadata": {},
   "outputs": [],
   "source": []
  }
 ],
 "metadata": {
  "kernelspec": {
   "display_name": "Python 3",
   "language": "python",
   "name": "python3"
  },
  "language_info": {
   "codemirror_mode": {
    "name": "ipython",
    "version": 3
   },
   "file_extension": ".py",
   "mimetype": "text/x-python",
   "name": "python",
   "nbconvert_exporter": "python",
   "pygments_lexer": "ipython3",
   "version": "3.7.0"
  }
 },
 "nbformat": 4,
 "nbformat_minor": 2
}
